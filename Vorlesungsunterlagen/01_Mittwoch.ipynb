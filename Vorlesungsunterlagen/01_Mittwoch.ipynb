{
 "cells": [
  {
   "cell_type": "markdown",
   "id": "8f504c2f-3e12-4536-a4f4-6265da88057e",
   "metadata": {
    "slideshow": {
     "slide_type": "slide"
    }
   },
   "source": [
    "# Einführung\n",
    "<br><br>\n",
    "### Ueber mich:\n",
    "\n",
    "<br>\n",
    "\n",
    "- **Atreju Tauschinsky**\n",
    "- Studium der Physik in Dresden, Nairobi und Amsterdam\n",
    "- Promotion Quantenphysik Amsterdam 2013\n",
    "- Postdoc Chemische Physik Oxford 2013/2014\n",
    "- Data Scientist @ Optiver, Amsterdam 2015/2016\n",
    "- Data Scientist @ SAP, Walldorf 2016 --\n",
    "- `atreju.tauschinsky@gmx.de`"
   ]
  },
  {
   "attachments": {
    "6c720918-2e56-4d86-8a1b-266b9134c766.png": {
     "image/png": "[encoded data removed]"
    }
   },
   "cell_type": "markdown",
   "id": "f8c49013-8f12-4142-b7cb-0f8e17261acc",
   "metadata": {
    "slideshow": {
     "slide_type": "slide"
    }
   },
   "source": [
    "<center>\n",
    "<div>\n",
    "<img src=\"attachment:6c720918-2e56-4d86-8a1b-266b9134c766.png\" width=\"500\"/>\n",
    "</div>\n",
    "\n",
    "https://tweedback.de/zxjs\n",
    "</center>\n"
   ]
  },
  {
   "cell_type": "markdown",
   "id": "06d839bc-f23d-4199-a061-7880ed977048",
   "metadata": {
    "slideshow": {
     "slide_type": "slide"
    }
   },
   "source": [
    "# Was ist Python?\n",
    "\n",
    "- Moderne, interpretierte Hochsprache\n",
    "- Entwickelt von Guido van Rossum, 1989\n",
    "- Benannt nach Month Python's Flying Circus ('short, unique and slightly mysterious')"
   ]
  },
  {
   "cell_type": "markdown",
   "id": "1d4ce11c-ce66-4961-93a8-73e5470a4150",
   "metadata": {
    "slideshow": {
     "slide_type": "slide"
    }
   },
   "source": [
    "# Warum Python?\n",
    "\n",
    "<br><br>\n",
    "\n",
    "<img style=\"float: right; padding-right:10em; margin-top:-7em\" src='https://imgs.xkcd.com/comics/python.png'/>\n",
    "\n",
    "- **Unglaublich beliebt für DataScience/ML/AI**\n",
    "  - Entsprechend reiches Ökosystem an Bibliotheken\n",
    "- Lesbar & einfach zu lernen\n",
    "- FLOSS mit permissiver Lizenz\n",
    "- Umfangreiche Standardbibliothek\n",
    "- Cross-Platform\n",
    "- Schnelle Entwicklungszeiten (aber potentiell langsame Laufzeiten)"
   ]
  },
  {
   "cell_type": "markdown",
   "id": "5217c0f8-64d5-4a22-81f6-f3ff9783977d",
   "metadata": {
    "slideshow": {
     "slide_type": "slide"
    }
   },
   "source": [
    "# Organisatorisches\n",
    "\n",
    "### Vorlesungen und Übungen\n",
    "- Freitag: Vorlesung und neue Übungsaufgaben\n",
    "- Mittwoch: Besprechung der Aufgaben von vor 10 Tagen (16:30 - 17:30), Hilfe zu Aufgaben des vorhergenden Freitags (17:45 - 19:00)\n",
    "- Donnerstag: Abgabe der Aufgaben und Beginn der Review-Periode\n",
    "\n",
    "<center><img src='./vorlesungsplan.png'/></center>"
   ]
  },
  {
   "cell_type": "markdown",
   "id": "bf7d56a0-a35e-4d25-a9a4-b480480b5ead",
   "metadata": {
    "slideshow": {
     "slide_type": "slide"
    }
   },
   "source": [
    "# Organisatorisches\n",
    "\n",
    "### Übungsaufgaben\n",
    "- Werden jeweils Freitags in der Vorlesung kurz vorgestellt\n",
    "- Sind von jedem Teilnehmer zu bearbeiten, Zweier-Teams (Pair Programming) sind moeglich\n",
    "- Bis Donnerstag 18:00 Abgabe in Form eines Pull Requests auf github.com\n",
    "  - Jeweils in einem eigenen Unterordner (voller Name, e.g. `AtrejuTauschinsky`) für jeden Teilnehmer\n",
    "  - Ein einzelnes, direkt ausführbares Python-Script (== eine `.py`-Datei) pro Woche\n",
    "  - Benannt als `Aufgaben_[N]`, N=`01`..`11` (Also `Aufgaben_01` für die erste Woche).\n",
    "- Bis zum darauffolgenden Mittwoch Code Review durch Kommilitonen'\n",
    "- Besprechung und merge der PRs in der Übung Mittwochs 10 Tage nach Vorstellung"
   ]
  },
  {
   "cell_type": "markdown",
   "id": "1c905c4d-df1b-4b7f-b935-8b54df1bb862",
   "metadata": {
    "slideshow": {
     "slide_type": "slide"
    }
   },
   "source": [
    "# Organisatorisches\n",
    "\n",
    "### Bewertung\n",
    "- Übungsaufgaben **und** Code Review sind zwingender Teil des Leistungsnachweises\n",
    "- Zusätzlich 90min Klausur und Bewertung der mündlichen Mitarbeit"
   ]
  },
  {
   "cell_type": "markdown",
   "id": "0f15f20a-dfd0-4bd3-a48e-a37c719845f4",
   "metadata": {
    "slideshow": {
     "slide_type": "slide"
    }
   },
   "source": [
    "# Praktisches Setup"
   ]
  },
  {
   "cell_type": "markdown",
   "id": "fe94dfd8-a53e-4bbe-ae8a-b6c5441a438a",
   "metadata": {},
   "source": [
    "**Verpflichtend**\n",
    "- mamba zum managen virtueller umgebungen: `https://github.com/conda-forge/miniforge#mambaforge`\n",
    "- python==3.11.x in eigener venv:\n",
    "  - conda create -n ppp python=3.11\n",
    "  - conda activate ppp\n",
    "- git: `https://git-scm.com/`\n",
    "- account bei github.com\n",
    "  - schreibt mir die email-adresse mit der ihr registriert seid, fuer rechte in unserem gemeinsamen repo\n",
    "  - `git clone https://github.com/dhbw-ma-ppp/ppp-2023.git`\n",
    " \n",
    "**Empfohlen**\n",
    "- Editor: vscode `https://code.visualstudio.com/`\n",
    "\n",
    "**Referenzen**\n",
    "- `https://docs.python.org/3.11/`\n"
   ]
  },
  {
   "cell_type": "code",
   "execution_count": null,
   "id": "928ad57b-1a57-451f-ba43-823ff8efd0a1",
   "metadata": {},
   "outputs": [],
   "source": []
  }
 ],
 "metadata": {
  "kernelspec": {
   "display_name": "dhbw",
   "language": "python",
   "name": "dhbw"
  },
  "language_info": {
   "codemirror_mode": {
    "name": "ipython",
    "version": 3
   },
   "file_extension": ".py",
   "mimetype": "text/x-python",
   "name": "python",
   "nbconvert_exporter": "python",
   "pygments_lexer": "ipython3",
   "version": "3.11.0"
  }
 },
 "nbformat": 4,
 "nbformat_minor": 5
}
