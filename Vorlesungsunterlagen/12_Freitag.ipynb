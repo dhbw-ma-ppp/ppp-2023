{
 "cells": [
  {
   "cell_type": "markdown",
   "id": "519f9827-2606-4f56-a21d-ec018fc8ce07",
   "metadata": {},
   "source": [
    "# sklearn -- from last week"
   ]
  },
  {
   "cell_type": "code",
   "execution_count": null,
   "id": "f6cb8696-1e73-4176-be4b-e2bbf5ddc530",
   "metadata": {},
   "outputs": [],
   "source": [
    "!/home/atreju/.conda/envs/dhbw/bin/pip install scikit-learn"
   ]
  },
  {
   "cell_type": "code",
   "execution_count": null,
   "id": "a63dcf2f-295b-4ea9-9f85-81de197f90f3",
   "metadata": {},
   "outputs": [],
   "source": [
    "import numpy as np\n",
    "import pandas as pd\n",
    "import sklearn  # usually: import of individual submodules"
   ]
  },
  {
   "cell_type": "markdown",
   "id": "b0e1fe7e-0133-4182-bb27-a9483ea0da51",
   "metadata": {},
   "source": [
    "## more difficult classification"
   ]
  },
  {
   "cell_type": "code",
   "execution_count": null,
   "id": "b4364aa5-cf97-492a-a896-70ff7940bed0",
   "metadata": {},
   "outputs": [],
   "source": [
    "from sklearn.model_selection import train_test_split\n",
    "from sklearn import tree\n",
    "from sklearn.metrics import matthews_corrcoef, ConfusionMatrixDisplay"
   ]
  },
  {
   "cell_type": "code",
   "execution_count": null,
   "id": "842bd25a-7c76-4d1f-93fb-3eb09715f9a6",
   "metadata": {},
   "outputs": [],
   "source": [
    "# data source: https://www.kaggle.com/datasets/purusinghvi/email-spam-classification-dataset/\n",
    "spam_df = pd.read_csv('../data/spam_emails.csv')"
   ]
  },
  {
   "cell_type": "markdown",
   "id": "ba3813e7-02b1-4ee0-8576-a0af1acedfd5",
   "metadata": {},
   "source": [
    "### split train and test datasets"
   ]
  },
  {
   "cell_type": "code",
   "execution_count": null,
   "id": "9185c1ee-41a4-4a67-ba4d-a74a23d4fc2b",
   "metadata": {},
   "outputs": [],
   "source": [
    "spam_df"
   ]
  },
  {
   "cell_type": "code",
   "execution_count": null,
   "id": "3484c6dd-3dbf-4eeb-b90a-8f7aee960506",
   "metadata": {},
   "outputs": [],
   "source": [
    "# make everything below faster...\n",
    "spam_df = spam_df[:10000]"
   ]
  },
  {
   "cell_type": "code",
   "execution_count": null,
   "id": "3c7f7862-2484-4f0e-9cc7-fa5bda4b617c",
   "metadata": {},
   "outputs": [],
   "source": [
    "x_train, x_test, y_train, y_test = train_test_split(spam_df.text, spam_df.label, test_size=0.1, stratify=spam_df.label)"
   ]
  },
  {
   "cell_type": "markdown",
   "id": "b307b545-2612-417b-8405-76ec2fa4a19f",
   "metadata": {},
   "source": [
    "### turn text into numerical features"
   ]
  },
  {
   "cell_type": "code",
   "execution_count": null,
   "id": "a552ba0d-ab05-4ddf-a41a-6129cd30316e",
   "metadata": {},
   "outputs": [],
   "source": [
    "from sklearn.feature_extraction.text import TfidfTransformer, CountVectorizer"
   ]
  },
  {
   "cell_type": "code",
   "execution_count": null,
   "id": "f458215c-8869-405a-8889-54342eb32b39",
   "metadata": {},
   "outputs": [],
   "source": [
    "# calculate word counts for each word in training corpus for each document (=email)\n",
    "vectorizer = CountVectorizer()\n",
    "word_counts = vectorizer.fit_transform(x_train)"
   ]
  },
  {
   "cell_type": "code",
   "execution_count": null,
   "id": "4fa1e0d1-defc-4cc1-a7b9-b132ab9f355d",
   "metadata": {},
   "outputs": [],
   "source": [
    "word_counts"
   ]
  },
  {
   "cell_type": "code",
   "execution_count": null,
   "id": "2421f852-2be4-4845-b8b8-87a76e7b4e39",
   "metadata": {},
   "outputs": [],
   "source": [
    "# tfidf - normalize by document length, and word frequency in corpys"
   ]
  },
  {
   "cell_type": "code",
   "execution_count": null,
   "id": "b665ba8b-39b1-459c-b60c-b1407753f4ce",
   "metadata": {},
   "outputs": [],
   "source": [
    "tfidf_transformer = TfidfTransformer()\n",
    "word_frequencies = tfidf_transformer.fit_transform(word_counts)"
   ]
  },
  {
   "cell_type": "code",
   "execution_count": null,
   "id": "f44c4be0-8e15-413f-b3e0-0d33ca5ae1b2",
   "metadata": {},
   "outputs": [],
   "source": [
    "word_frequencies"
   ]
  },
  {
   "cell_type": "code",
   "execution_count": null,
   "id": "a0ebb212-0928-41b2-a6a1-bbebc49906d3",
   "metadata": {},
   "outputs": [],
   "source": [
    "classifier = tree.DecisionTreeClassifier()\n",
    "classifier.fit(word_frequencies, y_train)"
   ]
  },
  {
   "cell_type": "code",
   "execution_count": null,
   "id": "5c3fe62c-3daf-4feb-8a94-1a700c200cc8",
   "metadata": {},
   "outputs": [],
   "source": [
    "# expected quality on training set\n",
    "matthews_corrcoef(y_train, classifier.predict(word_frequencies))"
   ]
  },
  {
   "cell_type": "code",
   "execution_count": null,
   "id": "5673a15d-ee00-4d4c-ad8b-7df953bd1ba9",
   "metadata": {},
   "outputs": [],
   "source": [
    "word_counts_test = vectorizer.transform(x_test)\n",
    "word_frequencies_test = tfidf_transformer.transform(word_counts_test)\n",
    "word_frequencies_test"
   ]
  },
  {
   "cell_type": "code",
   "execution_count": null,
   "id": "8f10586e-402f-494c-8065-890f0cfa8c78",
   "metadata": {},
   "outputs": [],
   "source": [
    "ConfusionMatrixDisplay.from_estimator(classifier, word_frequencies_test, y_test)"
   ]
  },
  {
   "cell_type": "code",
   "execution_count": null,
   "id": "fa0c2eea-1428-4e00-86a2-f6c5d10910fa",
   "metadata": {},
   "outputs": [],
   "source": [
    "matthews_corrcoef(y_test, classifier.predict(word_frequencies_test))"
   ]
  },
  {
   "cell_type": "code",
   "execution_count": null,
   "id": "c8a9e2c2-132a-4cc9-b796-973da491adc2",
   "metadata": {},
   "outputs": [],
   "source": [
    "# training a less-overfit model"
   ]
  },
  {
   "cell_type": "code",
   "execution_count": null,
   "id": "fccbe61f-71a7-45ee-9925-e102806b30cd",
   "metadata": {},
   "outputs": [],
   "source": [
    "classifier = tree.DecisionTreeClassifier(max_depth=2)\n",
    "classifier.fit(word_frequencies, y_train)"
   ]
  },
  {
   "cell_type": "code",
   "execution_count": null,
   "id": "2ac36f04-0d7d-4115-8c54-792b160120ec",
   "metadata": {},
   "outputs": [],
   "source": [
    "# but this one is (probably) underfit:\n",
    "matthews_corrcoef(y_train, classifier.predict(word_frequencies))"
   ]
  },
  {
   "cell_type": "code",
   "execution_count": null,
   "id": "c89ec4df-d29b-44b2-9ef6-96012921d7b1",
   "metadata": {},
   "outputs": [],
   "source": [
    "matthews_corrcoef(y_test, classifier.predict(word_frequencies_test))"
   ]
  },
  {
   "cell_type": "markdown",
   "id": "8d8b1f74-c427-4607-b6ca-e98b44cf279b",
   "metadata": {},
   "source": [
    "### hyperparameter tuning and cross-validation"
   ]
  },
  {
   "cell_type": "code",
   "execution_count": null,
   "id": "1e777cc9-d6a5-4c04-8917-3eb3d8c043e9",
   "metadata": {},
   "outputs": [],
   "source": [
    "# cross-validation with N folds on a trained classifier\n",
    "from sklearn.model_selection import cross_val_score\n",
    "cross_val_score(classifier, word_frequencies, y_train, cv=10, scoring='matthews_corrcoef')"
   ]
  },
  {
   "cell_type": "code",
   "execution_count": null,
   "id": "ecff666b-46a4-4b78-8e3d-b9bedde7cf3b",
   "metadata": {},
   "outputs": [],
   "source": [
    "mean_scores = []\n",
    "for depth in [2, 5, 10, 20, 30]:\n",
    "    print(f'Running cross-validation for {depth=}')\n",
    "    classifier = tree.DecisionTreeClassifier(max_depth=depth)\n",
    "    scores = cross_val_score(classifier, word_frequencies, y_train, cv=3, scoring='matthews_corrcoef')\n",
    "    mean_scores.append((scores.mean(), scores.std()))"
   ]
  },
  {
   "cell_type": "code",
   "execution_count": null,
   "id": "ba035654-672d-44dc-8670-fc6b0209febd",
   "metadata": {},
   "outputs": [],
   "source": [
    "mean_scores"
   ]
  },
  {
   "cell_type": "code",
   "execution_count": null,
   "id": "8bca9938-3ef4-48e1-ac11-197e402c70da",
   "metadata": {},
   "outputs": [],
   "source": [
    "final_classifier = tree.DecisionTreeClassifier(max_depth=20)\n",
    "final_classifier.fit(word_frequencies, y_train)"
   ]
  },
  {
   "cell_type": "code",
   "execution_count": null,
   "id": "ca73b3d7-9e93-4fd6-b961-c6b96159bb45",
   "metadata": {},
   "outputs": [],
   "source": [
    "# this seems a fair tradeoff\n",
    "# it's not very great though, still..\n",
    "matthews_corrcoef(y_test, final_classifier.predict(word_frequencies_test))"
   ]
  },
  {
   "cell_type": "code",
   "execution_count": null,
   "id": "748625db-270c-47e5-ba62-f7c4ed078713",
   "metadata": {},
   "outputs": [],
   "source": [
    "from sklearn.model_selection import GridSearchCV\n",
    "param_grid = {\n",
    "    'max_depth': [2, 5, 10, 20, 30],\n",
    "    'min_samples_split':  [2, 10, 50]\n",
    "}"
   ]
  },
  {
   "cell_type": "code",
   "execution_count": null,
   "id": "ffeb0234-8657-4720-afdd-62ce3365128d",
   "metadata": {
    "slideshow": {
     "slide_type": "fragment"
    }
   },
   "outputs": [],
   "source": [
    "grid = GridSearchCV(tree.DecisionTreeClassifier(), param_grid, n_jobs=4, cv=5, scoring='matthews_corrcoef', verbose=1)\n",
    "grid"
   ]
  },
  {
   "cell_type": "code",
   "execution_count": null,
   "id": "5853ce1a-e1d9-4671-afe3-6a9af70b7b25",
   "metadata": {},
   "outputs": [],
   "source": [
    "grid.fit(word_frequencies, y_train)"
   ]
  },
  {
   "cell_type": "code",
   "execution_count": null,
   "id": "c26aceb2-a80e-471b-b0e4-f5cc36fb00f5",
   "metadata": {},
   "outputs": [],
   "source": [
    "grid.best_score_"
   ]
  },
  {
   "cell_type": "code",
   "execution_count": null,
   "id": "af9f8faf-d0a1-44ec-97e3-2e3a4705e47d",
   "metadata": {},
   "outputs": [],
   "source": [
    "grid.best_params_"
   ]
  },
  {
   "cell_type": "code",
   "execution_count": null,
   "id": "0c36df85-efcd-4f84-b338-c122202080ee",
   "metadata": {},
   "outputs": [],
   "source": [
    "grid.best_estimator_"
   ]
  },
  {
   "cell_type": "code",
   "execution_count": null,
   "id": "a15a0627-9a28-4707-8ae3-81fdc2223bd5",
   "metadata": {},
   "outputs": [],
   "source": [
    "# again, final evaluation on the test set\n",
    "matthews_corrcoef(y_test, grid.best_estimator_.predict(word_frequencies_test))"
   ]
  },
  {
   "cell_type": "markdown",
   "id": "8e030cc1-e3da-4eba-8034-0530cd404fce",
   "metadata": {},
   "source": [
    "### Pipelines"
   ]
  },
  {
   "cell_type": "code",
   "execution_count": null,
   "id": "1f9b281a-4531-427f-837f-96a85bb3460c",
   "metadata": {},
   "outputs": [],
   "source": [
    "# Many manual steps above, hard to reproduce, deploy, ..."
   ]
  },
  {
   "cell_type": "code",
   "execution_count": null,
   "id": "a586b6f7-516a-4c47-acdd-b6e5db5142fb",
   "metadata": {},
   "outputs": [],
   "source": [
    "from sklearn.pipeline import Pipeline"
   ]
  },
  {
   "cell_type": "code",
   "execution_count": null,
   "id": "858b66a4-28cf-40c7-85f8-d864ef357761",
   "metadata": {},
   "outputs": [],
   "source": [
    "spam_pipeline = Pipeline([\n",
    "    ('vectorize', CountVectorizer()),\n",
    "    ('tfidf', TfidfTransformer()),\n",
    "    ('classify', tree.DecisionTreeClassifier(max_depth=20))\n",
    "])"
   ]
  },
  {
   "cell_type": "code",
   "execution_count": null,
   "id": "287b0273-f554-4169-be03-cb0008c51456",
   "metadata": {},
   "outputs": [],
   "source": [
    "# no more word_frequencies, just the text\n",
    "spam_pipeline.fit(x_train, y_train)"
   ]
  },
  {
   "cell_type": "code",
   "execution_count": null,
   "id": "aff84a12-10ce-471d-85d1-f86d7c0e6356",
   "metadata": {},
   "outputs": [],
   "source": [
    "matthews_corrcoef(y_test, spam_pipeline.predict(x_test))"
   ]
  },
  {
   "cell_type": "markdown",
   "id": "68af47c4-f5f0-407d-8efb-9b209be8cd37",
   "metadata": {},
   "source": [
    "### Comparing different Algorithms"
   ]
  },
  {
   "cell_type": "code",
   "execution_count": null,
   "id": "40250b01-2db4-4247-bfc5-16d89f79ff90",
   "metadata": {},
   "outputs": [],
   "source": [
    "class AlgorithmSelector:\n",
    "    def fit(self, X, y, **kwargs):\n",
    "        self.classifier.fit(X, y, **kwargs)\n",
    "        return self\n",
    "\n",
    "    def predict(self, X, y=None):\n",
    "        return self.classifier.predict(X)\n",
    "        \n",
    "    def score(self, X, y):\n",
    "        return self.classifier.score(X, y)\n",
    "\n",
    "    def set_params(self, **kwargs):\n",
    "        self.classifier = kwargs.pop('classifier')\n",
    "        self.classifier.set_params(**kwargs)\n",
    "        return self"
   ]
  },
  {
   "cell_type": "code",
   "execution_count": null,
   "id": "275e2ba6-cbae-4535-9ec2-5e0b00cab98a",
   "metadata": {},
   "outputs": [],
   "source": [
    "spam_pipeline = Pipeline([\n",
    "    ('vectorize', CountVectorizer()),\n",
    "    ('tfidf', TfidfTransformer()),\n",
    "    ('classify', AlgorithmSelector())\n",
    "])"
   ]
  },
  {
   "cell_type": "code",
   "execution_count": null,
   "id": "f60e0afb-d2ca-4073-ac5f-78cdab0f3f54",
   "metadata": {},
   "outputs": [],
   "source": [
    "from sklearn.linear_model import SGDClassifier\n",
    "from sklearn.naive_bayes import MultinomialNB\n",
    "\n",
    "param_grid = [\n",
    "    {\n",
    "        'tfidf__use_idf': (True, False),\n",
    "        'classify__classifier': [SGDClassifier()],\n",
    "        'classify__max_iter': [50, 80],\n",
    "    },\n",
    "    {\n",
    "        'classify__classifier': [tree.DecisionTreeClassifier()],\n",
    "        'classify__max_depth': [3, 10, 20]\n",
    "    },\n",
    "    {\n",
    "        'classify__classifier': [MultinomialNB()],\n",
    "        'classify__alpha': (1e-2, 1e-3, 1e-1)\n",
    "    },\n",
    "]"
   ]
  },
  {
   "cell_type": "code",
   "execution_count": null,
   "id": "600ff9a4-715d-4142-8c6e-7e4f44dda7e4",
   "metadata": {},
   "outputs": [],
   "source": [
    "grid = GridSearchCV(spam_pipeline, param_grid, n_jobs=4, cv=3, scoring='matthews_corrcoef', verbose=1)\n",
    "grid"
   ]
  },
  {
   "cell_type": "code",
   "execution_count": null,
   "id": "04f4fbb3-b1c4-4c80-8228-bc8ef64d56c7",
   "metadata": {},
   "outputs": [],
   "source": [
    "grid.fit(x_train, y_train)"
   ]
  },
  {
   "cell_type": "code",
   "execution_count": null,
   "id": "935a7c3f-b14b-4fa7-b186-0acc1407689c",
   "metadata": {},
   "outputs": [],
   "source": [
    "grid.best_params_"
   ]
  },
  {
   "cell_type": "code",
   "execution_count": null,
   "id": "1ac26b34-5cae-4e72-b1d0-c63f02aeb627",
   "metadata": {},
   "outputs": [],
   "source": [
    "grid.best_estimator_"
   ]
  },
  {
   "cell_type": "code",
   "execution_count": null,
   "id": "6a3e2ad4-e7d3-4ced-80b3-4b4a4fa59add",
   "metadata": {},
   "outputs": [],
   "source": [
    "# SGDClassifier is even fast enough to fit on the full dataset"
   ]
  },
  {
   "cell_type": "code",
   "execution_count": null,
   "id": "17b1cac2-2f91-4b16-9bf2-079837dafd6d",
   "metadata": {},
   "outputs": [],
   "source": [
    "spam_df = pd.read_csv('../data/spam_emails.csv')\n",
    "x_train, x_test, y_train, y_test = train_test_split(spam_df.text, spam_df.label, test_size=0.1, stratify=spam_df.label)"
   ]
  },
  {
   "cell_type": "code",
   "execution_count": null,
   "id": "1113e70a-9560-4d25-9541-51169dec9337",
   "metadata": {},
   "outputs": [],
   "source": [
    "grid.best_estimator_.fit(x_train, y_train)"
   ]
  },
  {
   "cell_type": "code",
   "execution_count": null,
   "id": "e5b3bc45-e7e7-49ae-a332-e0a56d33639c",
   "metadata": {},
   "outputs": [],
   "source": [
    "matthews_corrcoef(y_test, grid.best_estimator_.predict(x_test))"
   ]
  },
  {
   "cell_type": "markdown",
   "id": "00436672-2cd7-49f4-99bd-304d808c06c0",
   "metadata": {
    "jp-MarkdownHeadingCollapsed": true
   },
   "source": [
    "# Recap: What did we talk about?"
   ]
  },
  {
   "cell_type": "markdown",
   "id": "d3dbc894-e0b7-47d2-b7d7-e0d7e8f655bd",
   "metadata": {
    "jp-MarkdownHeadingCollapsed": true
   },
   "source": [
    "## Week 1: Datatypes"
   ]
  },
  {
   "cell_type": "markdown",
   "id": "5a88284d-bd7c-49f6-b109-1f524a385bdf",
   "metadata": {},
   "source": [
    "- **Syntax** and **Semantics**\n",
    "- **Python Properties** (multi-paradigm, typing, whitespace)\n",
    "- **Data Types** and their Properties\n",
    "- **Operators**: Arithmetic, (augmented) assignment, comparison, logical, bitwise"
   ]
  },
  {
   "cell_type": "markdown",
   "id": "8283363d-d808-4052-b922-b2e5aadd5756",
   "metadata": {
    "jp-MarkdownHeadingCollapsed": true
   },
   "source": [
    "## Week 2: Control Structures"
   ]
  },
  {
   "cell_type": "markdown",
   "id": "5039a299-ff9a-46f2-a1ab-fbe5444d8fa4",
   "metadata": {},
   "source": [
    "- **compound statements**: clause, header, suite\n",
    "- **conditionals**: if/elif/else\n",
    "- **loops**: while/for, break/continue, else\n",
    "- **comprehensions**: list/dict/set-comprehensions\n",
    "- **pattern matching**: match, case\n",
    "- **exception handling**: try/except/else/finally, raise\n",
    "- **context managers**: with\n",
    "- **functions**: definitions, arguments and returns, varargs, default values, docstrings\n",
    "- **first-class functions**: anonymous functions, assigning functions to variables, functions as argument and return value\n",
    "- **decorators**"
   ]
  },
  {
   "cell_type": "markdown",
   "id": "022135c0-ac4b-44cc-94ab-7d5e4912063a",
   "metadata": {
    "jp-MarkdownHeadingCollapsed": true
   },
   "source": [
    "## Week 3: Classes"
   ]
  },
  {
   "cell_type": "markdown",
   "id": "79da355f-573c-4645-87ef-de781a1a09be",
   "metadata": {},
   "source": [
    "- **codestyle**: PEP-8\n",
    "- **scoping**: local/non-local/global/builtin\n",
    "- **classes**:\n",
    "  - **concepts**: class, instance attribute, method\n",
    "  - **advantages**: modular, reusable, maintainable, encapsulation, real-world modeling\n",
    "  - **construction**: creation, class and instance attributes, protected and private attributes\n",
    "  - **inheritance**\n",
    "  - **dunder methods**"
   ]
  },
  {
   "cell_type": "markdown",
   "id": "87f1db26-b96f-447d-8805-cbd3d055f496",
   "metadata": {
    "jp-MarkdownHeadingCollapsed": true
   },
   "source": [
    "## Week 4 & 5: Standard Library"
   ]
  },
  {
   "cell_type": "markdown",
   "id": "394f31de-f0c4-4380-8a4d-d82a7548387d",
   "metadata": {},
   "source": [
    "- **importing packages**\n",
    "- **keywords vs builtins**\n",
    "- **standard library packages**\n",
    "  - file management\n",
    "  - time & date\n",
    "  - dealing with text\n",
    "  - math and random numbers\n",
    "  - file formats\n",
    "  - generic services (os, sys, logging, time)"
   ]
  },
  {
   "cell_type": "markdown",
   "id": "69fa320c-88a4-4e23-96fc-bc97e4a6d62a",
   "metadata": {
    "jp-MarkdownHeadingCollapsed": true
   },
   "source": [
    "## Week 6: Advanced Concepts"
   ]
  },
  {
   "cell_type": "markdown",
   "id": "e867562b-7165-4304-9b65-d8156e8baaa4",
   "metadata": {},
   "source": [
    "- **Iterables and Iterators**: concepts, `__iter__` and `__next__`, generator functions, genexp, yield, coroutines\n",
    "- **Dicts and Sets**: how do they work under the hood\n",
    "- **Type Hints**: optional but useful"
   ]
  },
  {
   "cell_type": "markdown",
   "id": "694d94d1-6cd2-48d8-be1f-46f9c14423a6",
   "metadata": {
    "jp-MarkdownHeadingCollapsed": true
   },
   "source": [
    "## Week 7: working with numbers"
   ]
  },
  {
   "cell_type": "markdown",
   "id": "1b732c0b-fa9f-4475-a53f-81ecc4a5e992",
   "metadata": {},
   "source": [
    "- **numpy**: ndarray, shape, indexing, broadcasting\n",
    "- **matplotlib**: basic plotting in python, types of plots\n",
    "- **scipy**: advanced math -- linear algebra, statistics, fft, interpo;lation, ..."
   ]
  },
  {
   "cell_type": "markdown",
   "id": "c3fd630e-b846-46d3-9a7a-f61883345251",
   "metadata": {
    "jp-MarkdownHeadingCollapsed": true
   },
   "source": [
    "## Week 8: working with tabular data"
   ]
  },
  {
   "cell_type": "markdown",
   "id": "d5e211ee-993b-40b6-bdd1-b8a952bd1319",
   "metadata": {},
   "source": [
    "- **pandas**: DataFrame, filter, sort, group, aggregate, join, NaNs\n",
    "- **plotnine**: high-level plotting\n",
    "- **seaborn**: plotting for statistics"
   ]
  },
  {
   "cell_type": "markdown",
   "id": "3cecd2d3-1d33-4801-8bea-032dfe880812",
   "metadata": {
    "jp-MarkdownHeadingCollapsed": true
   },
   "source": [
    "## Week 9: Machine Learning"
   ]
  },
  {
   "cell_type": "markdown",
   "id": "d8a47de8-9f3d-4e2d-addd-ea4a4273e105",
   "metadata": {},
   "source": [
    "- **nomenclature**: definition of terms and concepts\n",
    "- **sklearn**: classification, regression, clustering"
   ]
  },
  {
   "cell_type": "markdown",
   "id": "93295122-707a-4135-a36c-10c23bb9dd6b",
   "metadata": {
    "jp-MarkdownHeadingCollapsed": true
   },
   "source": [
    "# Further Reading"
   ]
  },
  {
   "cell_type": "markdown",
   "id": "4f65ae94-be97-487a-b357-9d9115108fdf",
   "metadata": {},
   "source": [
    "## Data Science / ML"
   ]
  },
  {
   "cell_type": "markdown",
   "id": "21cfc987-f343-4e49-b49f-76e1731201fb",
   "metadata": {},
   "source": [
    "- **tensorflow/pytorch**: deep learning\n",
    "- **keras**: simplified interface for tf/pytorch.\n",
    "- **ray**: orchestrate machine learning on clusters\n",
    "- **statsmodels**: statistical modeling and hypothesis testing\n",
    "- **xgboost/catboost/lightgbm**: gradient boosting models, gradient boosted trees\n",
    "- **huggingface/transformers**: website and libraries with datasets, pipelines and pre-trained models focussed on NLP"
   ]
  },
  {
   "cell_type": "markdown",
   "id": "c2f792ce-631e-4830-8ed7-4050db40c147",
   "metadata": {},
   "source": [
    "## Web development"
   ]
  },
  {
   "cell_type": "markdown",
   "id": "74607610-733a-4c7d-9d10-c6426b1aad6c",
   "metadata": {},
   "source": [
    "- **requests**: client side library for REST requests\n",
    "- **aiohttp**: asynchronous requests\n",
    "- **fastapi**: server side library for REST interfaces\n",
    "- **flask/django**: web frameworks including HTML templating etc.\n",
    "- **beautifulsoup/scrapy**: web scraping\n",
    "- **pyjwt, oauth2**: jwt tokens and authentication\n",
    "- **streamlit/dash/gradio**: quickly build dashboards and ML model interfaces"
   ]
  },
  {
   "cell_type": "markdown",
   "id": "e94cb99a-13d9-4b3f-baef-78236c635b38",
   "metadata": {},
   "source": [
    "## Others"
   ]
  },
  {
   "cell_type": "markdown",
   "id": "5e1d3e59-b167-45be-8c23-38f714b9d58d",
   "metadata": {},
   "source": [
    "- **tkinter**: part of the standard libaray for developing GUI\n",
    "- **pygtk/pyQT**: cross platform interfaces with GTK or QT respectively.\n",
    "- **wxPython**: native UI elements on OSX/Linux/Windows\n",
    "- **pillow**: image manipulation\n",
    "- **pygame**: :)"
   ]
  }
 ],
 "metadata": {
  "kernelspec": {
   "display_name": "dhbw",
   "language": "python",
   "name": "dhbw"
  },
  "language_info": {
   "codemirror_mode": {
    "name": "ipython",
    "version": 3
   },
   "file_extension": ".py",
   "mimetype": "text/x-python",
   "name": "python",
   "nbconvert_exporter": "python",
   "pygments_lexer": "ipython3",
   "version": "3.11.0"
  }
 },
 "nbformat": 4,
 "nbformat_minor": 5
}
