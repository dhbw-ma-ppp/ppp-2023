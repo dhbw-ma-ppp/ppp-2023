{
 "cells": [
  {
   "cell_type": "markdown",
   "metadata": {},
   "source": [
    "# Task\n",
    "This is the continuation of last weeks exercise.\n",
    "After having analysed the Titanic Dataset, you should now prepare a machine\n",
    "learning model to predict whether passengers will survive.\n",
    "\n",
    "It is entirely up to you which algorithm and feature engineering to use.\n",
    "I do recommend using some of the algorithms available in sklearn, but if you would \n",
    "like to use another library that's also ok. It's a good idea to try and evaluate different algorithms,\n",
    "and different pre-processing/cleaning/feature-generation options if you have the time.\n",
    "\n",
    "I have split the training data into a train- and a test-set already. These can be found as separate files \n",
    "in the `data`-directory. You should only use the training set throughout your entire development -- feel free \n",
    "to use cross-validation or split the training set into a train- and a validation set again.\n",
    "Once you have developed a final model, you should evaluate this model on the test set I've provided,\n",
    "and report the MCC score for the test set in the title of your PR. You should **not** evaluate the test\n",
    "set more than once for this initial submission!\n",
    "\n",
    "If you decide to change your code after code-review, you can report new values in the comments, but\n",
    "leave the initial MCC in the title unchanged.\n",
    "\n",
    "# Project"
   ]
  },
  {
   "cell_type": "code",
   "execution_count": 92,
   "metadata": {},
   "outputs": [],
   "source": [
    "import numpy as np\n",
    "import pandas as pd"
   ]
  },
  {
   "cell_type": "markdown",
   "metadata": {},
   "source": [
    "# Prepare Dateset"
   ]
  },
  {
   "cell_type": "code",
   "execution_count": 93,
   "metadata": {},
   "outputs": [
    {
     "data": {
      "text/html": [
       "<div>\n",
       "<style scoped>\n",
       "    .dataframe tbody tr th:only-of-type {\n",
       "        vertical-align: middle;\n",
       "    }\n",
       "\n",
       "    .dataframe tbody tr th {\n",
       "        vertical-align: top;\n",
       "    }\n",
       "\n",
       "    .dataframe thead th {\n",
       "        text-align: right;\n",
       "    }\n",
       "</style>\n",
       "<table border=\"1\" class=\"dataframe\">\n",
       "  <thead>\n",
       "    <tr style=\"text-align: right;\">\n",
       "      <th></th>\n",
       "      <th>Survived</th>\n",
       "      <th>Pclass</th>\n",
       "      <th>Sex</th>\n",
       "      <th>Age</th>\n",
       "      <th>SibSp</th>\n",
       "      <th>Parch</th>\n",
       "      <th>Fare</th>\n",
       "      <th>Embarked</th>\n",
       "    </tr>\n",
       "  </thead>\n",
       "  <tbody>\n",
       "    <tr>\n",
       "      <th>0</th>\n",
       "      <td>0</td>\n",
       "      <td>3</td>\n",
       "      <td>1</td>\n",
       "      <td>29.567002</td>\n",
       "      <td>0</td>\n",
       "      <td>0</td>\n",
       "      <td>8.05</td>\n",
       "      <td>0</td>\n",
       "    </tr>\n",
       "    <tr>\n",
       "      <th>1</th>\n",
       "      <td>1</td>\n",
       "      <td>1</td>\n",
       "      <td>0</td>\n",
       "      <td>51.000000</td>\n",
       "      <td>0</td>\n",
       "      <td>0</td>\n",
       "      <td>26.55</td>\n",
       "      <td>0</td>\n",
       "    </tr>\n",
       "  </tbody>\n",
       "</table>\n",
       "</div>"
      ],
      "text/plain": [
       "   Survived  Pclass  Sex        Age  SibSp  Parch   Fare  Embarked\n",
       "0         0       3    1  29.567002      0      0   8.05         0\n",
       "1         1       1    0  51.000000      0      0  26.55         0"
      ]
     },
     "execution_count": 93,
     "metadata": {},
     "output_type": "execute_result"
    }
   ],
   "source": [
    "df = pd.read_csv('../../data/titanic_train.csv')\n",
    "df.head(2)\n",
    "df = df.loc[:, [\"Survived\", \"Pclass\", \"Sex\", \"Age\", \"SibSp\", \"Parch\", \"Fare\", \"Embarked\"]]\n",
    "df[\"Age\"] = df[\"Age\"].fillna(df[\"Age\"].mean())\n",
    "df[\"Embarked\"] = df[\"Embarked\"].fillna(\"S\")\n",
    "df[\"Embarked\"] = df[\"Embarked\"].apply(lambda x: {'S':0, 'Q':1, 'C':2}[x])\n",
    "df[\"Sex\"] = df[\"Sex\"].apply(lambda x: {'female':1, 'male':0}[x])\n",
    "df.head(2)"
   ]
  },
  {
   "cell_type": "code",
   "execution_count": 94,
   "metadata": {},
   "outputs": [],
   "source": [
    "from sklearn.model_selection import train_test_split\n",
    "from sklearn.metrics import matthews_corrcoef\n",
    "x = df.loc[:, df.columns != \"Survived\"]\n",
    "y = df[[\"Survived\"]]\n",
    "\n",
    "x_train, x_test, y_train, y_test = train_test_split(x, y, test_size=0.1, stratify=y)"
   ]
  },
  {
   "cell_type": "markdown",
   "metadata": {},
   "source": [
    "# Decision Tree Classifier"
   ]
  },
  {
   "cell_type": "code",
   "execution_count": 95,
   "metadata": {},
   "outputs": [
    {
     "data": {
      "text/plain": [
       "0.45324298151595277"
      ]
     },
     "execution_count": 95,
     "metadata": {},
     "output_type": "execute_result"
    }
   ],
   "source": [
    "from sklearn import tree\n",
    "classifier5 = tree.DecisionTreeClassifier(max_depth=4)\n",
    "classifier5.fit(x_train, y_train)\n",
    "matthews_corrcoef(y_test, classifier5.predict(x_test))"
   ]
  },
  {
   "cell_type": "markdown",
   "metadata": {},
   "source": [
    "# SGD Classifier"
   ]
  },
  {
   "cell_type": "code",
   "execution_count": 96,
   "metadata": {},
   "outputs": [],
   "source": [
    "from sklearn.preprocessing import StandardScaler\n",
    "\n",
    "scaler = StandardScaler()\n",
    "scaler.fit(x_train)\n",
    "x_train_s = scaler.transform(x_train)\n",
    "x_test_s = scaler.transform(x_test)"
   ]
  },
  {
   "cell_type": "code",
   "execution_count": 97,
   "metadata": {},
   "outputs": [
    {
     "data": {
      "text/plain": [
       "{'alpha': 0.001, 'loss': 'log_loss', 'penalty': 'elasticnet'}"
      ]
     },
     "execution_count": 97,
     "metadata": {},
     "output_type": "execute_result"
    }
   ],
   "source": [
    "from sklearn.linear_model import SGDClassifier\n",
    "from sklearn.model_selection import GridSearchCV\n",
    "\n",
    "parms = {\n",
    "    #'max_iter': [2, 5, 10, 50, 100, 200, 500, 1000]\n",
    "    \"loss\": [\"hinge\", \"log_loss\", \"squared_hinge\", \"modified_huber\", \"perceptron\", \"huber\"],\n",
    "    \"alpha\": [0.0001, 0.001, 0.01, 0.1],\n",
    "    \"penalty\": [\"l2\", \"l1\", \"elasticnet\", None],\n",
    "}\n",
    "\n",
    "class1 = SGDClassifier(max_iter=100000)\n",
    "grid = GridSearchCV(class1, param_grid=parms, cv=10, scoring='matthews_corrcoef')\n",
    "\n",
    "grid.fit(x_train_s, y_train.values.ravel())\n",
    "grid.best_params_"
   ]
  },
  {
   "cell_type": "code",
   "execution_count": 98,
   "metadata": {},
   "outputs": [
    {
     "name": "stdout",
     "output_type": "stream",
     "text": [
      "0.4922362680945412\n",
      "0.523101174836567\n",
      "0.523101174836567\n",
      "0.523101174836567\n",
      "0.5539251650770359\n",
      "0.523101174836567\n",
      "0.523101174836567\n"
     ]
    },
    {
     "name": "stderr",
     "output_type": "stream",
     "text": [
      "c:\\Users\\Johannes\\miniforge3\\envs\\online-python\\Lib\\site-packages\\sklearn\\linear_model\\_stochastic_gradient.py:713: ConvergenceWarning: Maximum number of iteration reached before convergence. Consider increasing max_iter to improve the fit.\n",
      "  warnings.warn(\n"
     ]
    }
   ],
   "source": [
    "from sklearn.model_selection import cross_val_score\n",
    "for iters in [10, 100, 1000, 5000, 10000, 20000, 100000]:\n",
    "    class2 = SGDClassifier(max_iter=iters, alpha=0.01, loss='log_loss', penalty='l1')\n",
    "    #score = cross_val_score(class2, x_train, y_train, scoring='matthews_corrcoef')\n",
    "    class2.fit(x_train_s, y_train.values.ravel())\n",
    "    print(matthews_corrcoef(y_test, class2.predict(x_test_s)))\n"
   ]
  },
  {
   "cell_type": "markdown",
   "metadata": {},
   "source": [
    "# Choice of parameters:\n",
    "| parameter | choice |\n",
    "|-----------|--------|\n",
    "| max_iter  | 5000  |\n",
    "| alpha     | 0.01   |\n",
    "| loss      | squared_hinge |\n",
    "| penalty   | l1     |\n",
    "\n",
    "# Final Model:"
   ]
  },
  {
   "cell_type": "code",
   "execution_count": 99,
   "metadata": {},
   "outputs": [
    {
     "name": "stdout",
     "output_type": "stream",
     "text": [
      "Score on training data: 0.5698426457437183\n",
      "Score on test data: 0.49816581071166544\n"
     ]
    }
   ],
   "source": [
    "classifier = SGDClassifier(max_iter=5000, alpha=0.01, loss='squared_hinge', penalty='l1')\n",
    "classifier.fit(x_train_s, y_train.values.ravel())\n",
    "print(f'Score on training data: {matthews_corrcoef(y_train, classifier.predict(x_train_s))}')\n",
    "print(f'Score on test data: {matthews_corrcoef(y_test, classifier.predict(x_test_s))}')"
   ]
  },
  {
   "cell_type": "code",
   "execution_count": 100,
   "metadata": {},
   "outputs": [],
   "source": [
    "df = pd.read_csv('../../data/titanic_test.csv')\n",
    "df.head(2)\n",
    "df = df.loc[:, [\"Survived\", \"Pclass\", \"Sex\", \"Age\", \"SibSp\", \"Parch\", \"Fare\", \"Embarked\"]]\n",
    "df[\"Age\"] = df[\"Age\"].fillna(df[\"Age\"].mean())\n",
    "df[\"Embarked\"] = df[\"Embarked\"].fillna(\"S\")\n",
    "df[\"Embarked\"] = df[\"Embarked\"].apply(lambda x: {'S':0, 'Q':1, 'C':2}[x])\n",
    "df[\"Sex\"] = df[\"Sex\"].apply(lambda x: {'female':1, 'male':0}[x])\n",
    "\n",
    "x = df.loc[:, df.columns != \"Survived\"]\n",
    "y = df[[\"Survived\"]]\n",
    "\n",
    "\n",
    "scaler = StandardScaler()\n",
    "scaler.fit(x)\n",
    "x_s = scaler.transform(x)\n"
   ]
  },
  {
   "cell_type": "code",
   "execution_count": 101,
   "metadata": {},
   "outputs": [
    {
     "name": "stdout",
     "output_type": "stream",
     "text": [
      "0.5482001098230149\n",
      "0.6477778295184681\n"
     ]
    }
   ],
   "source": [
    "print(matthews_corrcoef(y, classifier5.predict(x)))\n",
    "print(matthews_corrcoef(y, classifier.predict(x_s)))"
   ]
  }
 ],
 "metadata": {
  "kernelspec": {
   "display_name": "online-python",
   "language": "python",
   "name": "python3"
  },
  "language_info": {
   "codemirror_mode": {
    "name": "ipython",
    "version": 3
   },
   "file_extension": ".py",
   "mimetype": "text/x-python",
   "name": "python",
   "nbconvert_exporter": "python",
   "pygments_lexer": "ipython3",
   "version": "3.11.6"
  }
 },
 "nbformat": 4,
 "nbformat_minor": 2
}
