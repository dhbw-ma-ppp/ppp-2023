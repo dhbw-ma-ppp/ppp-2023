{
 "cells": [
  {
   "cell_type": "markdown",
   "source": [
    "## Import:"
   ],
   "metadata": {
    "collapsed": false
   },
   "id": "cdc9f1bf5c1ea95d"
  },
  {
   "cell_type": "code",
   "execution_count": 3,
   "outputs": [],
   "source": [
    "import pathlib\n",
    "import pandas as pd\n",
    "from sklearn.model_selection import GridSearchCV\n",
    "from sklearn.metrics import matthews_corrcoef\n",
    "from sklearn.ensemble import RandomForestClassifier"
   ],
   "metadata": {
    "collapsed": false,
    "ExecuteTime": {
     "end_time": "2023-12-07T09:55:47.255770Z",
     "start_time": "2023-12-07T09:55:46.520734Z"
    }
   },
   "id": "ed9a9ad22d5974c4"
  },
  {
   "cell_type": "markdown",
   "source": [
    "## Data Import: "
   ],
   "metadata": {
    "collapsed": false
   },
   "id": "92aec07bd77c08bd"
  },
  {
   "cell_type": "code",
   "execution_count": 4,
   "outputs": [
    {
     "data": {
      "text/plain": "     PassengerId  Survived  Pclass  \\\n0            565         0       3   \n1            858         1       1   \n2            129         1       3   \n3            612         0       3   \n4             67         1       2   \n..           ...       ...     ...   \n752          816         0       1   \n753          254         0       3   \n754          642         1       1   \n755          480         1       3   \n756          618         0       3   \n\n                                                Name     Sex   Age  SibSp  \\\n0                     Meanwell, Miss. (Marion Ogden)  female   NaN      0   \n1                             Daly, Mr. Peter Denis     male  51.0      0   \n2                                  Peter, Miss. Anna  female   NaN      1   \n3                              Jardin, Mr. Jose Neto    male   NaN      0   \n4                       Nye, Mrs. (Elizabeth Ramell)  female  29.0      0   \n..                                               ...     ...   ...    ...   \n752                                 Fry, Mr. Richard    male   NaN      0   \n753                         Lobb, Mr. William Arthur    male  30.0      1   \n754                             Sagesser, Mlle. Emma  female  24.0      0   \n755                         Hirvonen, Miss. Hildur E  female   2.0      0   \n756  Lobb, Mrs. William Arthur (Cordelia K Stanlick)  female  26.0      1   \n\n     Parch              Ticket     Fare  Cabin Embarked  \n0        0   SOTON/O.Q. 392087   8.0500    NaN        S  \n1        0              113055  26.5500    E17        S  \n2        1                2668  22.3583  F E69        C  \n3        0  SOTON/O.Q. 3101305   7.0500    NaN        S  \n4        0          C.A. 29395  10.5000    F33        S  \n..     ...                 ...      ...    ...      ...  \n752      0              112058   0.0000   B102        S  \n753      0           A/5. 3336  16.1000    NaN        S  \n754      0            PC 17477  69.3000    B35        C  \n755      1             3101298  12.2875    NaN        S  \n756      0           A/5. 3336  16.1000    NaN        S  \n\n[757 rows x 12 columns]",
      "text/html": "<div>\n<style scoped>\n    .dataframe tbody tr th:only-of-type {\n        vertical-align: middle;\n    }\n\n    .dataframe tbody tr th {\n        vertical-align: top;\n    }\n\n    .dataframe thead th {\n        text-align: right;\n    }\n</style>\n<table border=\"1\" class=\"dataframe\">\n  <thead>\n    <tr style=\"text-align: right;\">\n      <th></th>\n      <th>PassengerId</th>\n      <th>Survived</th>\n      <th>Pclass</th>\n      <th>Name</th>\n      <th>Sex</th>\n      <th>Age</th>\n      <th>SibSp</th>\n      <th>Parch</th>\n      <th>Ticket</th>\n      <th>Fare</th>\n      <th>Cabin</th>\n      <th>Embarked</th>\n    </tr>\n  </thead>\n  <tbody>\n    <tr>\n      <th>0</th>\n      <td>565</td>\n      <td>0</td>\n      <td>3</td>\n      <td>Meanwell, Miss. (Marion Ogden)</td>\n      <td>female</td>\n      <td>NaN</td>\n      <td>0</td>\n      <td>0</td>\n      <td>SOTON/O.Q. 392087</td>\n      <td>8.0500</td>\n      <td>NaN</td>\n      <td>S</td>\n    </tr>\n    <tr>\n      <th>1</th>\n      <td>858</td>\n      <td>1</td>\n      <td>1</td>\n      <td>Daly, Mr. Peter Denis</td>\n      <td>male</td>\n      <td>51.0</td>\n      <td>0</td>\n      <td>0</td>\n      <td>113055</td>\n      <td>26.5500</td>\n      <td>E17</td>\n      <td>S</td>\n    </tr>\n    <tr>\n      <th>2</th>\n      <td>129</td>\n      <td>1</td>\n      <td>3</td>\n      <td>Peter, Miss. Anna</td>\n      <td>female</td>\n      <td>NaN</td>\n      <td>1</td>\n      <td>1</td>\n      <td>2668</td>\n      <td>22.3583</td>\n      <td>F E69</td>\n      <td>C</td>\n    </tr>\n    <tr>\n      <th>3</th>\n      <td>612</td>\n      <td>0</td>\n      <td>3</td>\n      <td>Jardin, Mr. Jose Neto</td>\n      <td>male</td>\n      <td>NaN</td>\n      <td>0</td>\n      <td>0</td>\n      <td>SOTON/O.Q. 3101305</td>\n      <td>7.0500</td>\n      <td>NaN</td>\n      <td>S</td>\n    </tr>\n    <tr>\n      <th>4</th>\n      <td>67</td>\n      <td>1</td>\n      <td>2</td>\n      <td>Nye, Mrs. (Elizabeth Ramell)</td>\n      <td>female</td>\n      <td>29.0</td>\n      <td>0</td>\n      <td>0</td>\n      <td>C.A. 29395</td>\n      <td>10.5000</td>\n      <td>F33</td>\n      <td>S</td>\n    </tr>\n    <tr>\n      <th>...</th>\n      <td>...</td>\n      <td>...</td>\n      <td>...</td>\n      <td>...</td>\n      <td>...</td>\n      <td>...</td>\n      <td>...</td>\n      <td>...</td>\n      <td>...</td>\n      <td>...</td>\n      <td>...</td>\n      <td>...</td>\n    </tr>\n    <tr>\n      <th>752</th>\n      <td>816</td>\n      <td>0</td>\n      <td>1</td>\n      <td>Fry, Mr. Richard</td>\n      <td>male</td>\n      <td>NaN</td>\n      <td>0</td>\n      <td>0</td>\n      <td>112058</td>\n      <td>0.0000</td>\n      <td>B102</td>\n      <td>S</td>\n    </tr>\n    <tr>\n      <th>753</th>\n      <td>254</td>\n      <td>0</td>\n      <td>3</td>\n      <td>Lobb, Mr. William Arthur</td>\n      <td>male</td>\n      <td>30.0</td>\n      <td>1</td>\n      <td>0</td>\n      <td>A/5. 3336</td>\n      <td>16.1000</td>\n      <td>NaN</td>\n      <td>S</td>\n    </tr>\n    <tr>\n      <th>754</th>\n      <td>642</td>\n      <td>1</td>\n      <td>1</td>\n      <td>Sagesser, Mlle. Emma</td>\n      <td>female</td>\n      <td>24.0</td>\n      <td>0</td>\n      <td>0</td>\n      <td>PC 17477</td>\n      <td>69.3000</td>\n      <td>B35</td>\n      <td>C</td>\n    </tr>\n    <tr>\n      <th>755</th>\n      <td>480</td>\n      <td>1</td>\n      <td>3</td>\n      <td>Hirvonen, Miss. Hildur E</td>\n      <td>female</td>\n      <td>2.0</td>\n      <td>0</td>\n      <td>1</td>\n      <td>3101298</td>\n      <td>12.2875</td>\n      <td>NaN</td>\n      <td>S</td>\n    </tr>\n    <tr>\n      <th>756</th>\n      <td>618</td>\n      <td>0</td>\n      <td>3</td>\n      <td>Lobb, Mrs. William Arthur (Cordelia K Stanlick)</td>\n      <td>female</td>\n      <td>26.0</td>\n      <td>1</td>\n      <td>0</td>\n      <td>A/5. 3336</td>\n      <td>16.1000</td>\n      <td>NaN</td>\n      <td>S</td>\n    </tr>\n  </tbody>\n</table>\n<p>757 rows × 12 columns</p>\n</div>"
     },
     "execution_count": 4,
     "metadata": {},
     "output_type": "execute_result"
    }
   ],
   "source": [
    "traindata = pd.read_csv(\"./../../data/titanic_train.csv\")\n",
    "traindata"
   ],
   "metadata": {
    "collapsed": false,
    "ExecuteTime": {
     "end_time": "2023-12-07T09:55:47.292209Z",
     "start_time": "2023-12-07T09:55:47.256253Z"
    }
   },
   "id": "b8fc3d38fd073843"
  },
  {
   "cell_type": "markdown",
   "source": [
    "## Filtering:"
   ],
   "metadata": {
    "collapsed": false
   },
   "id": "ce5f4f8ae8337834"
  },
  {
   "cell_type": "markdown",
   "source": [
    "I only use the Futures: Sex, Age, Survivied "
   ],
   "metadata": {
    "collapsed": false
   },
   "id": "cf31bfe2d22aca51"
  }
 ],
 "metadata": {
  "kernelspec": {
   "display_name": "Python 3",
   "language": "python",
   "name": "python3"
  },
  "language_info": {
   "codemirror_mode": {
    "name": "ipython",
    "version": 2
   },
   "file_extension": ".py",
   "mimetype": "text/x-python",
   "name": "python",
   "nbconvert_exporter": "python",
   "pygments_lexer": "ipython2",
   "version": "2.7.6"
  }
 },
 "nbformat": 4,
 "nbformat_minor": 5
}
