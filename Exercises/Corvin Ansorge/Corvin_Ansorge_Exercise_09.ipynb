{
 "cells": [
  {
   "cell_type": "markdown",
   "source": [
    "## Import:"
   ],
   "metadata": {
    "collapsed": false
   },
   "id": "cdc9f1bf5c1ea95d"
  },
  {
   "cell_type": "code",
   "execution_count": 140,
   "outputs": [],
   "source": [
    "import pathlib\n",
    "import pandas as pd\n",
    "from sklearn.model_selection import GridSearchCV\n",
    "from sklearn.metrics import matthews_corrcoef\n",
    "from sklearn.ensemble import RandomForestClassifier\n",
    "import os"
   ],
   "metadata": {
    "collapsed": false,
    "ExecuteTime": {
     "end_time": "2023-12-07T12:36:34.784769Z",
     "start_time": "2023-12-07T12:36:34.733366Z"
    }
   },
   "id": "ed9a9ad22d5974c4"
  },
  {
   "cell_type": "markdown",
   "source": [
    "## Data Import: "
   ],
   "metadata": {
    "collapsed": false
   },
   "id": "92aec07bd77c08bd"
  },
  {
   "cell_type": "code",
   "execution_count": 141,
   "outputs": [],
   "source": [
    "here = pathlib.Path(os.path.abspath(''))\n",
    "exercise_dir = here.parent\n",
    "data_dir = exercise_dir.parent / \"data\"\n",
    "traindata = pd.read_csv(data_dir / \"titanic_train.csv\")\n"
   ],
   "metadata": {
    "collapsed": false,
    "ExecuteTime": {
     "end_time": "2023-12-07T12:36:34.787181Z",
     "start_time": "2023-12-07T12:36:34.737224Z"
    }
   },
   "id": "b8fc3d38fd073843"
  },
  {
   "cell_type": "markdown",
   "source": [
    "## Filtering:"
   ],
   "metadata": {
    "collapsed": false
   },
   "id": "ce5f4f8ae8337834"
  },
  {
   "cell_type": "markdown",
   "source": [
    "I only use the Features: Sex, Age, Class and Survivied. "
   ],
   "metadata": {
    "collapsed": false
   },
   "id": "cf31bfe2d22aca51"
  },
  {
   "cell_type": "code",
   "execution_count": 142,
   "outputs": [
    {
     "data": {
      "text/plain": "     Pclass     Sex   Age\n0         3  female   NaN\n1         1    male  51.0\n2         3  female   NaN\n3         3    male   NaN\n4         2  female  29.0\n..      ...     ...   ...\n752       1    male   NaN\n753       3    male  30.0\n754       1  female  24.0\n755       3  female   2.0\n756       3  female  26.0\n\n[757 rows x 3 columns]",
      "text/html": "<div>\n<style scoped>\n    .dataframe tbody tr th:only-of-type {\n        vertical-align: middle;\n    }\n\n    .dataframe tbody tr th {\n        vertical-align: top;\n    }\n\n    .dataframe thead th {\n        text-align: right;\n    }\n</style>\n<table border=\"1\" class=\"dataframe\">\n  <thead>\n    <tr style=\"text-align: right;\">\n      <th></th>\n      <th>Pclass</th>\n      <th>Sex</th>\n      <th>Age</th>\n    </tr>\n  </thead>\n  <tbody>\n    <tr>\n      <th>0</th>\n      <td>3</td>\n      <td>female</td>\n      <td>NaN</td>\n    </tr>\n    <tr>\n      <th>1</th>\n      <td>1</td>\n      <td>male</td>\n      <td>51.0</td>\n    </tr>\n    <tr>\n      <th>2</th>\n      <td>3</td>\n      <td>female</td>\n      <td>NaN</td>\n    </tr>\n    <tr>\n      <th>3</th>\n      <td>3</td>\n      <td>male</td>\n      <td>NaN</td>\n    </tr>\n    <tr>\n      <th>4</th>\n      <td>2</td>\n      <td>female</td>\n      <td>29.0</td>\n    </tr>\n    <tr>\n      <th>...</th>\n      <td>...</td>\n      <td>...</td>\n      <td>...</td>\n    </tr>\n    <tr>\n      <th>752</th>\n      <td>1</td>\n      <td>male</td>\n      <td>NaN</td>\n    </tr>\n    <tr>\n      <th>753</th>\n      <td>3</td>\n      <td>male</td>\n      <td>30.0</td>\n    </tr>\n    <tr>\n      <th>754</th>\n      <td>1</td>\n      <td>female</td>\n      <td>24.0</td>\n    </tr>\n    <tr>\n      <th>755</th>\n      <td>3</td>\n      <td>female</td>\n      <td>2.0</td>\n    </tr>\n    <tr>\n      <th>756</th>\n      <td>3</td>\n      <td>female</td>\n      <td>26.0</td>\n    </tr>\n  </tbody>\n</table>\n<p>757 rows × 3 columns</p>\n</div>"
     },
     "execution_count": 142,
     "metadata": {},
     "output_type": "execute_result"
    }
   ],
   "source": [
    "x_factor = traindata[[\"Pclass\",\"Sex\",\"Age\"]]\n",
    "y_survivied = traindata[[\"Survived\"]]\n",
    "x_factor"
   ],
   "metadata": {
    "collapsed": false,
    "ExecuteTime": {
     "end_time": "2023-12-07T12:36:34.793684Z",
     "start_time": "2023-12-07T12:36:34.781668Z"
    }
   },
   "id": "b1f2cd37c6c3b26c"
  },
  {
   "cell_type": "markdown",
   "source": [
    "## Processing \n"
   ],
   "metadata": {
    "collapsed": false
   },
   "id": "c91dc223f653fd8e"
  },
  {
   "cell_type": "markdown",
   "source": [
    "Changing Sex(Male, Female) to 0,1. And Filling empty spaces with Averages"
   ],
   "metadata": {
    "collapsed": false
   },
   "id": "ee74da828f086d8d"
  },
  {
   "cell_type": "code",
   "execution_count": 143,
   "outputs": [
    {
     "name": "stderr",
     "output_type": "stream",
     "text": [
      "/var/folders/f5/kznq8v_n0ps5f262f10t_12w0000gn/T/ipykernel_4136/2318541708.py:5: SettingWithCopyWarning: \n",
      "A value is trying to be set on a copy of a slice from a DataFrame\n",
      "\n",
      "See the caveats in the documentation: https://pandas.pydata.org/pandas-docs/stable/user_guide/indexing.html#returning-a-view-versus-a-copy\n",
      "  x_factor['Age'].fillna(average_age, inplace = True)\n"
     ]
    },
    {
     "data": {
      "text/plain": "     Pclass Sex        Age\n0         3   1  29.567002\n1         1   0  51.000000\n2         3   1  29.567002\n3         3   0  29.567002\n4         2   1  29.000000\n..      ...  ..        ...\n752       1   0  29.567002\n753       3   0  30.000000\n754       1   1  24.000000\n755       3   1   2.000000\n756       3   1  26.000000\n\n[757 rows x 3 columns]",
      "text/html": "<div>\n<style scoped>\n    .dataframe tbody tr th:only-of-type {\n        vertical-align: middle;\n    }\n\n    .dataframe tbody tr th {\n        vertical-align: top;\n    }\n\n    .dataframe thead th {\n        text-align: right;\n    }\n</style>\n<table border=\"1\" class=\"dataframe\">\n  <thead>\n    <tr style=\"text-align: right;\">\n      <th></th>\n      <th>Pclass</th>\n      <th>Sex</th>\n      <th>Age</th>\n    </tr>\n  </thead>\n  <tbody>\n    <tr>\n      <th>0</th>\n      <td>3</td>\n      <td>1</td>\n      <td>29.567002</td>\n    </tr>\n    <tr>\n      <th>1</th>\n      <td>1</td>\n      <td>0</td>\n      <td>51.000000</td>\n    </tr>\n    <tr>\n      <th>2</th>\n      <td>3</td>\n      <td>1</td>\n      <td>29.567002</td>\n    </tr>\n    <tr>\n      <th>3</th>\n      <td>3</td>\n      <td>0</td>\n      <td>29.567002</td>\n    </tr>\n    <tr>\n      <th>4</th>\n      <td>2</td>\n      <td>1</td>\n      <td>29.000000</td>\n    </tr>\n    <tr>\n      <th>...</th>\n      <td>...</td>\n      <td>...</td>\n      <td>...</td>\n    </tr>\n    <tr>\n      <th>752</th>\n      <td>1</td>\n      <td>0</td>\n      <td>29.567002</td>\n    </tr>\n    <tr>\n      <th>753</th>\n      <td>3</td>\n      <td>0</td>\n      <td>30.000000</td>\n    </tr>\n    <tr>\n      <th>754</th>\n      <td>1</td>\n      <td>1</td>\n      <td>24.000000</td>\n    </tr>\n    <tr>\n      <th>755</th>\n      <td>3</td>\n      <td>1</td>\n      <td>2.000000</td>\n    </tr>\n    <tr>\n      <th>756</th>\n      <td>3</td>\n      <td>1</td>\n      <td>26.000000</td>\n    </tr>\n  </tbody>\n</table>\n<p>757 rows × 3 columns</p>\n</div>"
     },
     "execution_count": 143,
     "metadata": {},
     "output_type": "execute_result"
    }
   ],
   "source": [
    "x_factor.loc[x_factor['Sex'] == 'male', 'Sex'] = 0\n",
    "x_factor.loc[x_factor['Sex'] == 'female', 'Sex'] = 1\n",
    "\n",
    "average_age = x_factor['Age'].mean()\n",
    "x_factor['Age'].fillna(average_age, inplace = True) \n",
    "\n",
    "x_factor"
   ],
   "metadata": {
    "collapsed": false,
    "ExecuteTime": {
     "end_time": "2023-12-07T12:36:34.814927Z",
     "start_time": "2023-12-07T12:36:34.791742Z"
    }
   },
   "id": "ae6f5a33175b161e"
  },
  {
   "cell_type": "code",
   "execution_count": 144,
   "outputs": [],
   "source": [
    "from sklearn.model_selection import train_test_split\n",
    "x_train, x_test, y_train, y_test = train_test_split(x_factor, y_survivied, test_size=0.2, stratify=y_survivied)"
   ],
   "metadata": {
    "collapsed": false,
    "ExecuteTime": {
     "end_time": "2023-12-07T12:36:34.833271Z",
     "start_time": "2023-12-07T12:36:34.813344Z"
    }
   },
   "id": "23b0208bfdd96e29"
  },
  {
   "cell_type": "markdown",
   "source": [
    "## Tree"
   ],
   "metadata": {
    "collapsed": false
   },
   "id": "6a6cc3969f4fafe0"
  },
  {
   "cell_type": "code",
   "execution_count": 145,
   "outputs": [
    {
     "data": {
      "text/plain": "DecisionTreeClassifier(max_depth=6)",
      "text/html": "<style>#sk-container-id-14 {color: black;}#sk-container-id-14 pre{padding: 0;}#sk-container-id-14 div.sk-toggleable {background-color: white;}#sk-container-id-14 label.sk-toggleable__label {cursor: pointer;display: block;width: 100%;margin-bottom: 0;padding: 0.3em;box-sizing: border-box;text-align: center;}#sk-container-id-14 label.sk-toggleable__label-arrow:before {content: \"▸\";float: left;margin-right: 0.25em;color: #696969;}#sk-container-id-14 label.sk-toggleable__label-arrow:hover:before {color: black;}#sk-container-id-14 div.sk-estimator:hover label.sk-toggleable__label-arrow:before {color: black;}#sk-container-id-14 div.sk-toggleable__content {max-height: 0;max-width: 0;overflow: hidden;text-align: left;background-color: #f0f8ff;}#sk-container-id-14 div.sk-toggleable__content pre {margin: 0.2em;color: black;border-radius: 0.25em;background-color: #f0f8ff;}#sk-container-id-14 input.sk-toggleable__control:checked~div.sk-toggleable__content {max-height: 200px;max-width: 100%;overflow: auto;}#sk-container-id-14 input.sk-toggleable__control:checked~label.sk-toggleable__label-arrow:before {content: \"▾\";}#sk-container-id-14 div.sk-estimator input.sk-toggleable__control:checked~label.sk-toggleable__label {background-color: #d4ebff;}#sk-container-id-14 div.sk-label input.sk-toggleable__control:checked~label.sk-toggleable__label {background-color: #d4ebff;}#sk-container-id-14 input.sk-hidden--visually {border: 0;clip: rect(1px 1px 1px 1px);clip: rect(1px, 1px, 1px, 1px);height: 1px;margin: -1px;overflow: hidden;padding: 0;position: absolute;width: 1px;}#sk-container-id-14 div.sk-estimator {font-family: monospace;background-color: #f0f8ff;border: 1px dotted black;border-radius: 0.25em;box-sizing: border-box;margin-bottom: 0.5em;}#sk-container-id-14 div.sk-estimator:hover {background-color: #d4ebff;}#sk-container-id-14 div.sk-parallel-item::after {content: \"\";width: 100%;border-bottom: 1px solid gray;flex-grow: 1;}#sk-container-id-14 div.sk-label:hover label.sk-toggleable__label {background-color: #d4ebff;}#sk-container-id-14 div.sk-serial::before {content: \"\";position: absolute;border-left: 1px solid gray;box-sizing: border-box;top: 0;bottom: 0;left: 50%;z-index: 0;}#sk-container-id-14 div.sk-serial {display: flex;flex-direction: column;align-items: center;background-color: white;padding-right: 0.2em;padding-left: 0.2em;position: relative;}#sk-container-id-14 div.sk-item {position: relative;z-index: 1;}#sk-container-id-14 div.sk-parallel {display: flex;align-items: stretch;justify-content: center;background-color: white;position: relative;}#sk-container-id-14 div.sk-item::before, #sk-container-id-14 div.sk-parallel-item::before {content: \"\";position: absolute;border-left: 1px solid gray;box-sizing: border-box;top: 0;bottom: 0;left: 50%;z-index: -1;}#sk-container-id-14 div.sk-parallel-item {display: flex;flex-direction: column;z-index: 1;position: relative;background-color: white;}#sk-container-id-14 div.sk-parallel-item:first-child::after {align-self: flex-end;width: 50%;}#sk-container-id-14 div.sk-parallel-item:last-child::after {align-self: flex-start;width: 50%;}#sk-container-id-14 div.sk-parallel-item:only-child::after {width: 0;}#sk-container-id-14 div.sk-dashed-wrapped {border: 1px dashed gray;margin: 0 0.4em 0.5em 0.4em;box-sizing: border-box;padding-bottom: 0.4em;background-color: white;}#sk-container-id-14 div.sk-label label {font-family: monospace;font-weight: bold;display: inline-block;line-height: 1.2em;}#sk-container-id-14 div.sk-label-container {text-align: center;}#sk-container-id-14 div.sk-container {/* jupyter's `normalize.less` sets `[hidden] { display: none; }` but bootstrap.min.css set `[hidden] { display: none !important; }` so we also need the `!important` here to be able to override the default hidden behavior on the sphinx rendered scikit-learn.org. See: https://github.com/scikit-learn/scikit-learn/issues/21755 */display: inline-block !important;position: relative;}#sk-container-id-14 div.sk-text-repr-fallback {display: none;}</style><div id=\"sk-container-id-14\" class=\"sk-top-container\"><div class=\"sk-text-repr-fallback\"><pre>DecisionTreeClassifier(max_depth=6)</pre><b>In a Jupyter environment, please rerun this cell to show the HTML representation or trust the notebook. <br />On GitHub, the HTML representation is unable to render, please try loading this page with nbviewer.org.</b></div><div class=\"sk-container\" hidden><div class=\"sk-item\"><div class=\"sk-estimator sk-toggleable\"><input class=\"sk-toggleable__control sk-hidden--visually\" id=\"sk-estimator-id-14\" type=\"checkbox\" checked><label for=\"sk-estimator-id-14\" class=\"sk-toggleable__label sk-toggleable__label-arrow\">DecisionTreeClassifier</label><div class=\"sk-toggleable__content\"><pre>DecisionTreeClassifier(max_depth=6)</pre></div></div></div></div></div>"
     },
     "execution_count": 145,
     "metadata": {},
     "output_type": "execute_result"
    }
   ],
   "source": [
    "from sklearn import tree\n",
    "classifier = tree.DecisionTreeClassifier(max_depth = 6)\n",
    "classifier.fit(x_train, y_train)"
   ],
   "metadata": {
    "collapsed": false,
    "ExecuteTime": {
     "end_time": "2023-12-07T12:36:34.879003Z",
     "start_time": "2023-12-07T12:36:34.820546Z"
    }
   },
   "id": "917a3822799b4b9e"
  },
  {
   "cell_type": "markdown",
   "source": [
    "## Predicitions\n"
   ],
   "metadata": {
    "collapsed": false
   },
   "id": "a24fe4fdc431cf33"
  },
  {
   "cell_type": "code",
   "execution_count": 146,
   "outputs": [],
   "source": [
    "y_pred = classifier.predict(x_test)"
   ],
   "metadata": {
    "collapsed": false,
    "ExecuteTime": {
     "end_time": "2023-12-07T12:36:34.911044Z",
     "start_time": "2023-12-07T12:36:34.833920Z"
    }
   },
   "id": "118408917a086969"
  },
  {
   "cell_type": "code",
   "execution_count": 147,
   "outputs": [
    {
     "data": {
      "text/plain": "<sklearn.metrics._plot.confusion_matrix.ConfusionMatrixDisplay at 0x169409750>"
     },
     "execution_count": 147,
     "metadata": {},
     "output_type": "execute_result"
    },
    {
     "data": {
      "text/plain": "<Figure size 640x480 with 2 Axes>",
      "image/png": "[encoded data removed]"
     },
     "metadata": {},
     "output_type": "display_data"
    }
   ],
   "source": [
    "from sklearn.metrics import ConfusionMatrixDisplay\n",
    "ConfusionMatrixDisplay.from_estimator(classifier, x_test, y_test)"
   ],
   "metadata": {
    "collapsed": false,
    "ExecuteTime": {
     "end_time": "2023-12-07T12:36:35.007948Z",
     "start_time": "2023-12-07T12:36:34.839088Z"
    }
   },
   "id": "a1e21905fc9ada8b"
  },
  {
   "cell_type": "markdown",
   "source": [
    "## Testing for Accuracy\n"
   ],
   "metadata": {
    "collapsed": false
   },
   "id": "94eb515746ecf8dd"
  },
  {
   "cell_type": "code",
   "execution_count": 148,
   "outputs": [
    {
     "data": {
      "text/plain": "0.8092105263157895"
     },
     "execution_count": 148,
     "metadata": {},
     "output_type": "execute_result"
    }
   ],
   "source": [
    "from sklearn.metrics import accuracy_score, f1_score, matthews_corrcoef\n",
    "accuracy_score(y_test, y_pred)"
   ],
   "metadata": {
    "collapsed": false,
    "ExecuteTime": {
     "end_time": "2023-12-07T12:36:35.008133Z",
     "start_time": "2023-12-07T12:36:34.987116Z"
    }
   },
   "id": "d5036a2ae3e67367"
  },
  {
   "cell_type": "code",
   "execution_count": 149,
   "outputs": [
    {
     "data": {
      "text/plain": "0.775365642358457"
     },
     "execution_count": 149,
     "metadata": {},
     "output_type": "execute_result"
    }
   ],
   "source": [
    "f1_score(y_test, y_pred, average='macro')"
   ],
   "metadata": {
    "collapsed": false,
    "ExecuteTime": {
     "end_time": "2023-12-07T12:36:35.008487Z",
     "start_time": "2023-12-07T12:36:34.991323Z"
    }
   },
   "id": "2b4a8a74cb62130"
  },
  {
   "cell_type": "code",
   "execution_count": 150,
   "outputs": [
    {
     "data": {
      "text/plain": "0.599784128521955"
     },
     "execution_count": 150,
     "metadata": {},
     "output_type": "execute_result"
    }
   ],
   "source": [
    "matthews_corrcoef(y_test, y_pred)"
   ],
   "metadata": {
    "collapsed": false,
    "ExecuteTime": {
     "end_time": "2023-12-07T12:36:35.008644Z",
     "start_time": "2023-12-07T12:36:34.998872Z"
    }
   },
   "id": "336b841c8c955376"
  },
  {
   "cell_type": "code",
   "execution_count": 151,
   "outputs": [
    {
     "data": {
      "text/plain": "0.6692737898780097"
     },
     "execution_count": 151,
     "metadata": {},
     "output_type": "execute_result"
    }
   ],
   "source": [
    "matthews_corrcoef(y_train, classifier.predict(x_train))"
   ],
   "metadata": {
    "collapsed": false,
    "ExecuteTime": {
     "end_time": "2023-12-07T12:36:35.011623Z",
     "start_time": "2023-12-07T12:36:35.003712Z"
    }
   },
   "id": "e42acf9aa2d92dd6"
  },
  {
   "cell_type": "code",
   "execution_count": 152,
   "outputs": [
    {
     "name": "stderr",
     "output_type": "stream",
     "text": [
      "/var/folders/f5/kznq8v_n0ps5f262f10t_12w0000gn/T/ipykernel_4136/321681138.py:10: SettingWithCopyWarning: \n",
      "A value is trying to be set on a copy of a slice from a DataFrame\n",
      "\n",
      "See the caveats in the documentation: https://pandas.pydata.org/pandas-docs/stable/user_guide/indexing.html#returning-a-view-versus-a-copy\n",
      "  x_factors_test['Age'].fillna(average_age_test, inplace = True)\n"
     ]
    },
    {
     "data": {
      "text/plain": "0.42596877373901465"
     },
     "execution_count": 152,
     "metadata": {},
     "output_type": "execute_result"
    }
   ],
   "source": [
    "testfile = pd.read_csv(\"./../../data/titanic_test.csv\")\n",
    "\n",
    "x_factors_test = testfile[['Pclass','Sex','Age']]\n",
    "y_survived_test = testfile[['Survived']]\n",
    "\n",
    "x_factors_test.loc[x_factors_test['Sex'] == 'male', 'Sex'] = 0\n",
    "x_factors_test.loc[x_factors_test['Sex'] == 'female', 'Sex'] = 1\n",
    "\n",
    "average_age_test = x_factors_test['Age'].mean()\n",
    "x_factors_test['Age'].fillna(average_age_test, inplace = True)\n",
    " \n",
    "y_pred_test = classifier.predict(x_factors_test)\n",
    "\n",
    "matthews_corrcoef(y_survived_test, y_pred_test)"
   ],
   "metadata": {
    "collapsed": false,
    "ExecuteTime": {
     "end_time": "2023-12-07T12:36:35.030848Z",
     "start_time": "2023-12-07T12:36:35.013014Z"
    }
   },
   "id": "aee2db19a341cadd"
  }
 ],
 "metadata": {
  "kernelspec": {
   "display_name": "Python 3",
   "language": "python",
   "name": "python3"
  },
  "language_info": {
   "codemirror_mode": {
    "name": "ipython",
    "version": 2
   },
   "file_extension": ".py",
   "mimetype": "text/x-python",
   "name": "python",
   "nbconvert_exporter": "python",
   "pygments_lexer": "ipython2",
   "version": "2.7.6"
  }
 },
 "nbformat": 4,
 "nbformat_minor": 5
}
