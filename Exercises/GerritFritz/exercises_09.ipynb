{
 "cells": [
  {
   "cell_type": "markdown",
   "metadata": {},
   "source": [
    "# Titanic Survival Model"
   ]
  },
  {
   "cell_type": "markdown",
   "metadata": {},
   "source": [
    "## Requirements\n"
   ]
  },
  {
   "cell_type": "code",
   "execution_count": null,
   "metadata": {},
   "outputs": [],
   "source": [
    "\n",
    "# TODO Preprocessing - gender and class to numbers\n",
    "# TODO divide trainingsset\n",
    "# TODO training - different methods\n",
    "# TODO cross validation,\n",
    "# TODO more stuff\n",
    "# TODO if good, test on testing data, write max-coefficient on PR#\n",
    "\n",
    "# ! Best possible result, also do not invest too much time\n",
    "\n",
    "# This is the continuation of last weeks exercise.\n",
    "# After having analysed the Titanic Dataset, you should now prepare a machine\n",
    "# learning model to predict whether passengers will survive.\n",
    "#\n",
    "# It is entirely up to you which algorithm and feature engineering to use.\n",
    "# I do recommend using some of the algorithms available in sklearn, but if you would \n",
    "# like to use another library that's also ok. It's a good idea to try and evaluate different algorithms,\n",
    "# and different pre-processing/cleaning/feature-generation options if you have the time.\n",
    "#\n",
    "# I have split the training data into a train- and a test-set already. These can be found as separate files \n",
    "# in the `data`-directory. You should only use the training set throughout your entire development -- feel free \n",
    "# to use cross-validation or split the training set into a train- and a validation set again.\n",
    "# Once you have developed a final model, you should evaluate this model on the test set I've provided,\n",
    "# and report the MCC score for the test set in the title of your PR. You should **not** evaluate the test\n",
    "# set more than once for this initial submission!\n",
    "#\n",
    "# If you decide to change your code after code-review, you can report new values in the comments, but\n",
    "# leave the initial MCC in the title unchanged. "
   ]
  },
  {
   "cell_type": "markdown",
   "metadata": {},
   "source": [
    "## Imports"
   ]
  },
  {
   "cell_type": "code",
   "execution_count": null,
   "metadata": {},
   "outputs": [],
   "source": [
    "import sklearn\n",
    "import matplotlib\n",
    "import pandas as pd"
   ]
  },
  {
   "cell_type": "markdown",
   "metadata": {},
   "source": [
    "## Preprocessing"
   ]
  },
  {
   "cell_type": "code",
   "execution_count": null,
   "metadata": {},
   "outputs": [],
   "source": [
    "# Do stuff"
   ]
  }
 ],
 "metadata": {
  "language_info": {
   "name": "python"
  }
 },
 "nbformat": 4,
 "nbformat_minor": 2
}
