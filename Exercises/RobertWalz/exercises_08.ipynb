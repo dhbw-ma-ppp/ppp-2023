{
 "cells": [
  {
   "cell_type": "code",
   "execution_count": null,
   "metadata": {},
   "outputs": [],
   "source": [
    "import pandas as pd\n",
    "import pathlib\n",
    "import matplotlib.pyplot as plt\n",
    "import seaborn as sns\n",
    "import os"
   ]
  },
  {
   "cell_type": "code",
   "execution_count": null,
   "metadata": {
    "scrolled": true
   },
   "outputs": [],
   "source": [
    "#Importing the data\n",
    "here = pathlib.Path(os.path.abspath(''))\n",
    "exercise_dir = here.parent\n",
    "data_dir = exercise_dir.parent / \"data\"\n",
    "\n",
    "titanic_df = pd.read_csv(data_dir / \"titanic.csv\")\n"
   ]
  },
  {
   "cell_type": "code",
   "execution_count": null,
   "metadata": {},
   "outputs": [],
   "source": [
    "# find the missing data per categories\n",
    "missing_data = titanic_df.isnull().sum()\n",
    "\n",
    "missing_data = missing_data.where(missing_data > 0).dropna()\n",
    "\n",
    "fig, axs = plt.subplots(1, 2)\n",
    "\n",
    "sns.heatmap(titanic_df.isnull(), cbar=False).set_title(\" \")\n",
    " \n",
    "axs[0].pie(missing_data, labels=missing_data.index.to_list())\n",
    "\n",
    "fig.tight_layout() #spacing between plots\n",
    "fig.suptitle(\"Missing data distribution\")"
   ]
  },
  {
   "cell_type": "markdown",
   "metadata": {},
   "source": [
    "Is becomes obvious, that a lot of data is missing for the cabin and age of the passengers. Therefore analysis on these columns might not be statistically significant. "
   ]
  },
  {
   "cell_type": "code",
   "execution_count": null,
   "metadata": {},
   "outputs": [],
   "source": [
    "# analyse passenger sex and it's correlation to death rate \n",
    "gender_groups = titanic_df.groupby(['Sex', \"Survived\"])\n",
    "\n",
    "combined_group_counts = gender_groups.count()[\"PassengerId\"].unstack()\n",
    "fig, ax = plt.subplots()\n",
    "#ax.plot.bar(stacked=True)\n",
    "combined_group_counts.plot.bar(stacked=True, ax=ax, color=[\"#cc0000\", \"#60e600\"])\n",
    "ax.legend([\"died\",\"survived\"])\n",
    "plt.title(\"Correlation between sex and absolute deaths\")"
   ]
  },
  {
   "cell_type": "markdown",
   "metadata": {},
   "source": [
    "We can definetely see that women were prioritized during evacuation, resulting in a much lower death rate than men. Furthermore you can tell, that in total there were much more male passengers on the titanic than females. But there were only around 100 surviving males, but around 200 surviving females.  "
   ]
  },
  {
   "cell_type": "code",
   "execution_count": null,
   "metadata": {},
   "outputs": [],
   "source": [
    "# analyse age and it's correlation to death\n",
    "\n",
    "age_groups = titanic_df.groupby(['Age', \"Survived\"])\n",
    "combined_group_counts = age_groups.count()[\"PassengerId\"].unstack()\n",
    "\n",
    "combined_group_counts[\"age_group\"] = \"\" #create new column\n",
    "# grouping the passengers by age\n",
    "combined_group_counts.loc[combined_group_counts.index <= 3 , \"age_group\"] = \"0-3 (Toddler)\"\n",
    "combined_group_counts.loc[combined_group_counts.index > 3, \"age_group\"] = \"03-13 (Child)\"\n",
    "combined_group_counts.loc[combined_group_counts.index > 13, \"age_group\"] = \"13-20 (Teenager)\"\n",
    "combined_group_counts.loc[combined_group_counts.index > 20, \"age_group\"] = \"20-35 (Young Adults)\"\n",
    "combined_group_counts.loc[combined_group_counts.index > 35, \"age_group\"] = \"35-60 (Old Adults)\"\n",
    "combined_group_counts.loc[combined_group_counts.index > 60, \"age_group\"] = \"60+ (Ederly)\"\n",
    "combined_group_counts.loc[combined_group_counts.index > 150, \"age_group\"] = \"Probably_Dead_lol\"\n",
    "\n",
    "groups_survival_rates = combined_group_counts.groupby([\"age_group\"]).sum()\n",
    "\n",
    "combined_group_counts.reindex(combined_group_counts[\"age_group\"])\n",
    "combined_group_counts = age_groups.count()[\"PassengerId\"].unstack()\n",
    "\n",
    "\n",
    "fig, ax = plt.subplots()\n",
    "\n",
    "groups_survival_rates.plot.bar(stacked=True, ax=ax, color=[\"#cc0000\", \"#60e600\"])\n",
    "ax.legend([\"died\",\"survived\"])\n",
    "\n",
    "plt.title(\"Correlation between age and total deaths\")"
   ]
  },
  {
   "cell_type": "markdown",
   "metadata": {},
   "source": [
    "First of all, one can see the age distribution on the ship. Young adults were the most prominent group, while childs, toddlers and elderly people were a lot less present on the titanic. Second one can see, that elderly people were a lot more likely to die than toddlers and childs. Additionally we should take this analysis whith a grain of salt, since it depicts only around 30 toddlers for example in the dataset, which statistically may not be enough to find significant correlations. "
   ]
  },
  {
   "cell_type": "code",
   "execution_count": null,
   "metadata": {},
   "outputs": [],
   "source": [
    "# analyse Passenger class and it's correlations\n",
    "class_groups = titanic_df.groupby(['Pclass', \"Survived\"])\n",
    "\n",
    "combined_group_counts = class_groups.count()[\"PassengerId\"].unstack()\n",
    "fig, ax = plt.subplots()\n",
    "#ax.plot.bar(stacked=True)\n",
    "combined_group_counts.plot.bar(stacked=True, ax=ax, color=[\"#cc0000\", \"#60e600\"])\n",
    "ax.legend([\"died\",\"survived\"])\n",
    "plt.title(\"Correlation between class and total deaths\")"
   ]
  },
  {
   "cell_type": "markdown",
   "metadata": {},
   "source": [
    "The data shows the class distribution. Most of the passengers traveled in the third class. It also shows that passengers traveling in the first class were more likely to survive the sinking than passengers in the second and third class.  "
   ]
  },
  {
   "cell_type": "code",
   "execution_count": null,
   "metadata": {},
   "outputs": [],
   "source": [
    "# analyse Passenger embarked and it's correlations\n",
    "embarked_groups = titanic_df.groupby(['Embarked', \"Survived\"])\n",
    "\n",
    "combined_group_counts = embarked_groups.count()[\"PassengerId\"].unstack()\n",
    "combined_group_counts.rename(index={'C':'Cherbourg'}, inplace=True)\n",
    "combined_group_counts.rename(index={'Q':'Queenstown'}, inplace=True)\n",
    "combined_group_counts.rename(index={'S':'Southhampton'}, inplace=True)\n",
    "\n",
    "\n",
    "fig, ax = plt.subplots()\n",
    "#ax.plot.bar(stacked=True)\n",
    "combined_group_counts.plot.bar(stacked=True, ax=ax, color=[\"#cc0000\", \"#60e600\"])\n",
    "ax.legend([\"died\",\"survived\"])\n",
    "plt.title(\"Correlation between city embarked and total deaths\")"
   ]
  },
  {
   "cell_type": "markdown",
   "metadata": {},
   "source": [
    "First of all you can see the embarking place distribution again. Most people embarked in Southampton. \n",
    "Second of all it is observable that passengers who embarked in Cherburg were more likely to suvive than people who embarked in Southampton. But again the amount of data points is pretty low for queenstown and should therefore be taken with a grain of salt. \n",
    "On explanation could be that passengers who embarked in Cherburg were more likely to travel in a better class therefore resulting in a lower death rate."
   ]
  },
  {
   "cell_type": "code",
   "execution_count": null,
   "metadata": {},
   "outputs": [],
   "source": [
    "# try to find correlation between embarking place and passengers class\n",
    "embarked_groups = titanic_df.groupby([\"Embarked\", \"Pclass\"])\n",
    "embarked_groups_count = embarked_groups.count()[\"PassengerId\"].unstack()\n",
    "embarked_groups_count.plot.bar()\n",
    "\n",
    "# readability \n",
    "combined_group_counts.rename(index={'C':'Cherbourg'}, inplace=True)\n",
    "combined_group_counts.rename(index={'Q':'Queenstown'}, inplace=True)\n",
    "combined_group_counts.rename(index={'S':'Southhampton'}, inplace=True)\n",
    "\n",
    "plt.title(\"Correlation between city embarked and passengers class\")\n",
    "\n"
   ]
  },
  {
   "cell_type": "markdown",
   "metadata": {},
   "source": [
    "This graph kind of confirms the theory from above. A lot of people who embarked in Southampton were traveling in the third class, resulting in a higher death probabilty. On the other hand you can see that the most people who embarked in Cherburg were traveling in the first class which lines up with the higher suvival rate of the passengers of Cherburg."
   ]
  },
  {
   "cell_type": "code",
   "execution_count": null,
   "metadata": {},
   "outputs": [],
   "source": [
    "# analyse relatives and it's correlations\n",
    "titanic_df[\"total_relatives\"] = titanic_df[\"SibSp\"] + titanic_df[\"Parch\"]\n",
    "relative_groups = titanic_df.groupby(['total_relatives', \"Survived\"])\n",
    "\n",
    "combined_group_counts = relative_groups.count()[\"PassengerId\"].unstack()\n",
    "fig, ax = plt.subplots()\n",
    "#ax.plot.bar(stacked=True)\n",
    "combined_group_counts.plot.bar(stacked=True, ax=ax, color=[\"#cc0000\", \"#60e600\"])\n",
    "ax.legend([\"died\",\"survived\"])\n",
    "plt.title(\"Correlation between amount of relatives and total deaths\")"
   ]
  },
  {
   "cell_type": "markdown",
   "metadata": {},
   "source": [
    "This graph shows, that the data for people traveling with 4 or more relatives is statistically mostly insignificant due to it's low amount of data points. \n",
    "It also shows, that the survival rate increased with the passengers relatives increasing. "
   ]
  }
 ],
 "metadata": {
  "kernelspec": {
   "display_name": "Python 3 (ipykernel)",
   "language": "python",
   "name": "python3"
  },
  "language_info": {
   "codemirror_mode": {
    "name": "ipython",
    "version": 3
   },
   "file_extension": ".py",
   "mimetype": "text/x-python",
   "name": "python",
   "nbconvert_exporter": "python",
   "pygments_lexer": "ipython3",
   "version": "3.11.6"
  }
 },
 "nbformat": 4,
 "nbformat_minor": 4
}
